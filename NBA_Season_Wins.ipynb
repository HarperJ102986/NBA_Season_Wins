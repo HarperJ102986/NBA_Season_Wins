{
 "cells": [
  {
   "cell_type": "markdown",
   "id": "72b04908",
   "metadata": {},
   "source": []
  },
  {
   "cell_type": "markdown",
   "id": "798e990d",
   "metadata": {},
   "source": []
  },
  {
   "cell_type": "markdown",
   "id": "6a575771",
   "metadata": {},
   "source": []
  },
  {
   "cell_type": "markdown",
   "id": "fd995112",
   "metadata": {},
   "source": []
  },
  {
   "cell_type": "markdown",
   "id": "ba5e669d",
   "metadata": {},
   "source": []
  },
  {
   "cell_type": "markdown",
   "id": "61796a74",
   "metadata": {},
   "source": []
  },
  {
   "cell_type": "markdown",
   "id": "535a7169",
   "metadata": {},
   "source": []
  },
  {
   "cell_type": "markdown",
   "id": "5d4f1e36",
   "metadata": {},
   "source": []
  },
  {
   "cell_type": "markdown",
   "id": "dc20513a",
   "metadata": {},
   "source": []
  },
  {
   "cell_type": "markdown",
   "id": "b7c48f54",
   "metadata": {},
   "source": []
  },
  {
   "cell_type": "markdown",
   "id": "f8e8b47e",
   "metadata": {},
   "source": []
  }
 ],
 "metadata": {
  "kernelspec": {
   "display_name": "Python 3 (ipykernel)",
   "language": "python",
   "name": "python3"
  },
  "language_info": {
   "codemirror_mode": {
    "name": "ipython",
    "version": 3
   },
   "file_extension": ".py",
   "mimetype": "text/x-python",
   "name": "python",
   "nbconvert_exporter": "python",
   "pygments_lexer": "ipython3",
   "version": "3.9.7"
  }
 },
 "nbformat": 4,
 "nbformat_minor": 5
}
